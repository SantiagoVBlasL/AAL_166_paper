{
 "cells": [
  {
   "cell_type": "code",
   "execution_count": null,
   "id": "e2719512",
   "metadata": {},
   "outputs": [
    {
     "name": "stdout",
     "output_type": "stream",
     "text": [
      "01:15:41 │ INFO     │ Cargando tensor global desde: /home/diego/Escritorio/AAL3_paper/AAL3_dynamicROIs_fmri_tensor_NeuroEnhanced_v6.5.17_AAL3_131ROIs_OMST_GCE_Signed_GrangerLag1_ChNorm_ROIreorderedYeo17_ParallelTuned/GLOBAL_TENSOR_from_AAL3_dynamicROIs_fmri_tensor_NeuroEnhanced_v6.5.17_AAL3_131ROIs_OMST_GCE_Signed_GrangerLag1_ChNorm_ROIreorderedYeo17_ParallelTuned.npz\n",
      "01:15:41 │ INFO     │ Tensor global cargado. Forma: (431, 6, 131, 131). Canales: ['Pearson_OMST_GCE_Signed_Weighted', 'Pearson_Full_FisherZ_Signed', 'MI_KNN_Symmetric', 'dFC_AbsDiffMean', 'dFC_StdDev', 'Granger_F_lag1']\n",
      "01:15:41 │ INFO     │ Cargando metadatos desde: /home/diego/Escritorio/AAL3_paper/SubjectsData_Schaefer2018_400ROIs.csv\n",
      "01:15:41 │ INFO     │ Metadatos cargados. Forma: (434, 24)\n",
      "01:15:41 │ INFO     │ Usando 3 canales: ['Pearson_Full_FisherZ_Signed', 'MI_KNN_Symmetric', 'dFC_AbsDiffMean']\n",
      "01:15:41 │ INFO     │ Total de sujetos CN/AD para clasificación: 184. (CN: 89, AD: 95)\n",
      "01:15:41 │ INFO     │ Usando StratifiedKFold (5 iteraciones).\n",
      "01:15:41 │ INFO     │ --- Iniciando Fold 1/5 ---\n",
      "01:15:41 │ INFO     │ Aplicando normalización inter-canal (modo: zscore_offdiag) sobre 3 canales seleccionados.\n",
      "01:15:41 │ INFO     │ Parámetros de normalización se calcularán usando 334 sujetos de entrenamiento.\n",
      "01:15:41 │ INFO     │ Canal 'Pearson_Full_FisherZ_Signed': Off-diag zscore_offdiag (train_params: mean=-0.046, std=0.770)\n",
      "01:15:41 │ INFO     │ Canal 'MI_KNN_Symmetric': Off-diag zscore_offdiag (train_params: mean=0.058, std=0.812)\n",
      "01:15:42 │ INFO     │ Canal 'dFC_AbsDiffMean': Off-diag zscore_offdiag (train_params: mean=-0.036, std=0.769)\n",
      "/home/diego/anaconda3/lib/python3.11/site-packages/torch/optim/lr_scheduler.py:62: UserWarning: The verbose parameter is deprecated. Please use get_last_lr() to access the learning rate.\n",
      "  warnings.warn(\n",
      "01:15:43 │ INFO     │   Fold 1/5 VAE Ep   1 | LR 1.00e-04 | β 0.000 | Train Recon 64078.66  KLD   187.72 | Val Loss 53365.10\n",
      "01:15:50 │ INFO     │   Fold 1/5 VAE Ep  21 | LR 1.00e-04 | β 0.121 | Train Recon 41431.34  KLD  1174.73 | Val Loss 39821.20\n",
      "01:15:57 │ INFO     │   Fold 1/5 VAE Ep  41 | LR 1.00e-04 | β 0.242 | Train Recon 36254.56  KLD  1116.49 | Val Loss 35221.34\n",
      "01:16:03 │ INFO     │   Fold 1/5 VAE Ep  61 | LR 1.00e-04 | β 0.364 | Train Recon 33995.19  KLD  1019.20 | Val Loss 33261.58\n",
      "01:16:33 │ INFO     │   Fold 1/5 VAE Ep  81 | LR 1.00e-04 | β 0.485 | Train Recon 32538.48  KLD   933.98 | Val Loss 32192.68\n",
      "01:16:40 │ INFO     │   Fold 1/5 VAE Ep 101 | LR 1.00e-04 | β 0.606 | Train Recon 31622.20  KLD   872.89 | Val Loss 31459.81\n",
      "01:16:46 │ INFO     │   Fold 1/5 VAE Ep 121 | LR 1.00e-04 | β 0.727 | Train Recon 30960.68  KLD   818.79 | Val Loss 31002.27\n",
      "01:16:59 │ INFO     │   Fold 1/5 VAE Ep 141 | LR 1.00e-04 | β 0.848 | Train Recon 30396.88  KLD   775.13 | Val Loss 30760.61\n",
      "01:17:20 │ INFO     │   Fold 1/5 VAE Ep 161 | LR 1.00e-04 | β 0.970 | Train Recon 29992.40  KLD   734.72 | Val Loss 30385.46\n",
      "01:17:25 │ INFO     │   Fold 1/5 VAE Ep 181 | LR 1.00e-04 | β 1.091 | Train Recon 29526.87  KLD   700.59 | Val Loss 30166.56\n",
      "01:17:29 │ INFO     │   Fold 1/5 VAE Ep 201 | LR 1.00e-04 | β 1.212 | Train Recon 29170.45  KLD   664.84 | Val Loss 30116.45\n",
      "01:17:34 │ INFO     │   Fold 1/5 VAE Ep 221 | LR 1.00e-04 | β 1.333 | Train Recon 28916.16  KLD   629.67 | Val Loss 29955.07\n",
      "01:17:40 │ INFO     │   Fold 1/5 VAE Ep 241 | LR 1.00e-04 | β 1.455 | Train Recon 28646.14  KLD   614.03 | Val Loss 29841.75\n",
      "01:17:48 │ INFO     │   Fold 1/5 VAE Ep 261 | LR 1.00e-04 | β 1.500 | Train Recon 28387.06  KLD   607.34 | Val Loss 29779.94\n"
     ]
    }
   ],
   "source": [
    "!python sat_night.py \\\n",
    "    --global_tensor_path /home/diego/Escritorio/AAL3_paper/AAL3_dynamicROIs_fmri_tensor_NeuroEnhanced_v6.5.17_AAL3_131ROIs_OMST_GCE_Signed_GrangerLag1_ChNorm_ROIreorderedYeo17_ParallelTuned/GLOBAL_TENSOR_from_AAL3_dynamicROIs_fmri_tensor_NeuroEnhanced_v6.5.17_AAL3_131ROIs_OMST_GCE_Signed_GrangerLag1_ChNorm_ROIreorderedYeo17_ParallelTuned.npz \\\n",
    "    --metadata_path      /home/diego/Escritorio/AAL3_paper/SubjectsData_Schaefer2018_400ROIs.csv \\\n",
    "    --channels_to_use 1 2 3 \\\n",
    "    --outer_folds 5 --repeated_outer_folds_n_repeats 1 \\\n",
    "    --classifier_stratify_cols Sex \\\n",
    "    --classifier_hp_tune_ratio 0.2 \\\n",
    "    --latent_dim 512 --num_conv_layers_encoder 4 --decoder_type convtranspose \\\n",
    "    --epochs_vae 550 --lr_vae 1e-4 --weight_decay_vae 1e-4 \\\n",
    "    --batch_size 32 --beta_vae 1.5 \\\n",
    "    --cyclical_beta_n_cycles 2 --cyclical_beta_ratio_increase 0.9 \\\n",
    "    --vae_val_split_ratio 0.15 --early_stopping_patience_vae 50 \\\n",
    "    --lr_scheduler_patience_vae 20 \\\n",
    "    --dropout_rate_vae 0.2 --use_layernorm_vae_fc \\\n",
    "    --classifier_types rf gb svm logreg mlp \\\n",
    "    --classifier_use_class_weight \\\n",
    "    --norm_mode zscore_offdiag \\\n",
    "    --n_jobs_gridsearch 4 \\\n",
    "    --optuna_n_trials 150 \\\n",
    "    --output_dir experiments/wed_night_run \\\n",
    "    --log_level INFO \\\n",
    "    --save_vae_training_history --save_fold_artefacts\n"
   ]
  }
 ],
 "metadata": {
  "kernelspec": {
   "display_name": "base",
   "language": "python",
   "name": "python3"
  },
  "language_info": {
   "codemirror_mode": {
    "name": "ipython",
    "version": 3
   },
   "file_extension": ".py",
   "mimetype": "text/x-python",
   "name": "python",
   "nbconvert_exporter": "python",
   "pygments_lexer": "ipython3",
   "version": "3.11.11"
  }
 },
 "nbformat": 4,
 "nbformat_minor": 5
}
